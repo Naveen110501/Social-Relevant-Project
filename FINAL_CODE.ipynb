{
 "cells": [
  {
   "cell_type": "code",
   "execution_count": 1,
   "metadata": {},
   "outputs": [],
   "source": [
    "import pandas as pd\n",
    "ss = pd.read_csv(\"FINAL_DATASET.csv\") "
   ]
  },
  {
   "cell_type": "code",
   "execution_count": 2,
   "metadata": {},
   "outputs": [],
   "source": [
    "l=ss[ss['Branch Name']==5]"
   ]
  },
  {
   "cell_type": "code",
   "execution_count": 3,
   "metadata": {},
   "outputs": [],
   "source": [
    "e=12"
   ]
  },
  {
   "cell_type": "code",
   "execution_count": 4,
   "metadata": {},
   "outputs": [],
   "source": [
    "l=l.head(5)"
   ]
  },
  {
   "cell_type": "code",
   "execution_count": 5,
   "metadata": {},
   "outputs": [
    {
     "data": {
      "text/html": [
       "<div>\n",
       "<style scoped>\n",
       "    .dataframe tbody tr th:only-of-type {\n",
       "        vertical-align: middle;\n",
       "    }\n",
       "\n",
       "    .dataframe tbody tr th {\n",
       "        vertical-align: top;\n",
       "    }\n",
       "\n",
       "    .dataframe thead th {\n",
       "        text-align: right;\n",
       "    }\n",
       "</style>\n",
       "<table border=\"1\" class=\"dataframe\">\n",
       "  <thead>\n",
       "    <tr style=\"text-align: right;\">\n",
       "      <th></th>\n",
       "      <th>College Code</th>\n",
       "      <th>College Name</th>\n",
       "      <th>Branch Code</th>\n",
       "      <th>Branch Name</th>\n",
       "      <th>Year_2017</th>\n",
       "      <th>OC_2017</th>\n",
       "      <th>BC_2017</th>\n",
       "      <th>BCM_2017</th>\n",
       "      <th>MBC_2017</th>\n",
       "      <th>SC_2017</th>\n",
       "      <th>...</th>\n",
       "      <th>SC_2019</th>\n",
       "      <th>SCA_2019</th>\n",
       "      <th>ST_2019</th>\n",
       "      <th>OCRank_2019</th>\n",
       "      <th>BCRank_2019</th>\n",
       "      <th>BCMRank_2019</th>\n",
       "      <th>MBCRank_2019</th>\n",
       "      <th>SCRank_2019</th>\n",
       "      <th>SCARank_2019</th>\n",
       "      <th>STRank_2019</th>\n",
       "    </tr>\n",
       "  </thead>\n",
       "  <tbody>\n",
       "    <tr>\n",
       "      <th>3</th>\n",
       "      <td>1</td>\n",
       "      <td>UNIVERSITY DEPARTMENTS OF ANNA UNIVERSITY, CHE...</td>\n",
       "      <td>CS</td>\n",
       "      <td>5</td>\n",
       "      <td>2017</td>\n",
       "      <td>199.75</td>\n",
       "      <td>199.5</td>\n",
       "      <td>199.50</td>\n",
       "      <td>199.00</td>\n",
       "      <td>197.50</td>\n",
       "      <td>...</td>\n",
       "      <td>190.25</td>\n",
       "      <td>134905.0</td>\n",
       "      <td>171.0</td>\n",
       "      <td>87</td>\n",
       "      <td>206</td>\n",
       "      <td>126</td>\n",
       "      <td>499</td>\n",
       "      <td>1934</td>\n",
       "      <td>134905</td>\n",
       "      <td>14448</td>\n",
       "    </tr>\n",
       "    <tr>\n",
       "      <th>30</th>\n",
       "      <td>4</td>\n",
       "      <td>UNIVERSITY DEPARTMENTS OF ANNA UNIVERSITY, CHE...</td>\n",
       "      <td>CS</td>\n",
       "      <td>5</td>\n",
       "      <td>2017</td>\n",
       "      <td>198.75</td>\n",
       "      <td>198.5</td>\n",
       "      <td>198.00</td>\n",
       "      <td>197.75</td>\n",
       "      <td>195.00</td>\n",
       "      <td>...</td>\n",
       "      <td>184.50</td>\n",
       "      <td>190.0</td>\n",
       "      <td>165.5</td>\n",
       "      <td>516</td>\n",
       "      <td>857</td>\n",
       "      <td>2418</td>\n",
       "      <td>1488</td>\n",
       "      <td>5466</td>\n",
       "      <td>2027</td>\n",
       "      <td>18814</td>\n",
       "    </tr>\n",
       "    <tr>\n",
       "      <th>42</th>\n",
       "      <td>1013</td>\n",
       "      <td>UNIVERSITY COLLEGE OF ENGINEERING, VILLUPURAM,...</td>\n",
       "      <td>CS</td>\n",
       "      <td>5</td>\n",
       "      <td>2017</td>\n",
       "      <td>179.25</td>\n",
       "      <td>174.0</td>\n",
       "      <td>168.75</td>\n",
       "      <td>175.50</td>\n",
       "      <td>162.75</td>\n",
       "      <td>...</td>\n",
       "      <td>109.00</td>\n",
       "      <td>84.5</td>\n",
       "      <td>103.0</td>\n",
       "      <td>30184</td>\n",
       "      <td>45041</td>\n",
       "      <td>56525</td>\n",
       "      <td>57378</td>\n",
       "      <td>70603</td>\n",
       "      <td>96913</td>\n",
       "      <td>134905</td>\n",
       "    </tr>\n",
       "    <tr>\n",
       "      <th>49</th>\n",
       "      <td>1014</td>\n",
       "      <td>UNIVERSITY COLLEGE OF ENGINEERING, TINDIVANAM,...</td>\n",
       "      <td>CS</td>\n",
       "      <td>5</td>\n",
       "      <td>2017</td>\n",
       "      <td>173.50</td>\n",
       "      <td>167.0</td>\n",
       "      <td>156.00</td>\n",
       "      <td>168.25</td>\n",
       "      <td>161.25</td>\n",
       "      <td>...</td>\n",
       "      <td>100.50</td>\n",
       "      <td>134905.0</td>\n",
       "      <td>134905.0</td>\n",
       "      <td>47660</td>\n",
       "      <td>65428</td>\n",
       "      <td>75613</td>\n",
       "      <td>60689</td>\n",
       "      <td>79911</td>\n",
       "      <td>134905</td>\n",
       "      <td>134905</td>\n",
       "    </tr>\n",
       "    <tr>\n",
       "      <th>50</th>\n",
       "      <td>1014</td>\n",
       "      <td>UNIVERSITY COLLEGE OF ENGINEERING, TINDIVANAM,...</td>\n",
       "      <td>CS</td>\n",
       "      <td>5</td>\n",
       "      <td>2017</td>\n",
       "      <td>173.50</td>\n",
       "      <td>167.0</td>\n",
       "      <td>156.00</td>\n",
       "      <td>168.25</td>\n",
       "      <td>161.25</td>\n",
       "      <td>...</td>\n",
       "      <td>100.50</td>\n",
       "      <td>134905.0</td>\n",
       "      <td>134905.0</td>\n",
       "      <td>47660</td>\n",
       "      <td>65428</td>\n",
       "      <td>75613</td>\n",
       "      <td>60689</td>\n",
       "      <td>79911</td>\n",
       "      <td>134905</td>\n",
       "      <td>134905</td>\n",
       "    </tr>\n",
       "  </tbody>\n",
       "</table>\n",
       "<p>5 rows × 49 columns</p>\n",
       "</div>"
      ],
      "text/plain": [
       "    College Code                                       College Name  \\\n",
       "3              1  UNIVERSITY DEPARTMENTS OF ANNA UNIVERSITY, CHE...   \n",
       "30             4  UNIVERSITY DEPARTMENTS OF ANNA UNIVERSITY, CHE...   \n",
       "42          1013  UNIVERSITY COLLEGE OF ENGINEERING, VILLUPURAM,...   \n",
       "49          1014  UNIVERSITY COLLEGE OF ENGINEERING, TINDIVANAM,...   \n",
       "50          1014  UNIVERSITY COLLEGE OF ENGINEERING, TINDIVANAM,...   \n",
       "\n",
       "   Branch Code  Branch Name  Year_2017  OC_2017  BC_2017  BCM_2017  MBC_2017  \\\n",
       "3           CS            5       2017   199.75    199.5    199.50    199.00   \n",
       "30          CS            5       2017   198.75    198.5    198.00    197.75   \n",
       "42          CS            5       2017   179.25    174.0    168.75    175.50   \n",
       "49          CS            5       2017   173.50    167.0    156.00    168.25   \n",
       "50          CS            5       2017   173.50    167.0    156.00    168.25   \n",
       "\n",
       "    SC_2017  ...  SC_2019  SCA_2019   ST_2019  OCRank_2019  BCRank_2019  \\\n",
       "3    197.50  ...   190.25  134905.0     171.0           87          206   \n",
       "30   195.00  ...   184.50     190.0     165.5          516          857   \n",
       "42   162.75  ...   109.00      84.5     103.0        30184        45041   \n",
       "49   161.25  ...   100.50  134905.0  134905.0        47660        65428   \n",
       "50   161.25  ...   100.50  134905.0  134905.0        47660        65428   \n",
       "\n",
       "    BCMRank_2019  MBCRank_2019  SCRank_2019  SCARank_2019  STRank_2019  \n",
       "3            126           499         1934        134905        14448  \n",
       "30          2418          1488         5466          2027        18814  \n",
       "42         56525         57378        70603         96913       134905  \n",
       "49         75613         60689        79911        134905       134905  \n",
       "50         75613         60689        79911        134905       134905  \n",
       "\n",
       "[5 rows x 49 columns]"
      ]
     },
     "execution_count": 5,
     "metadata": {},
     "output_type": "execute_result"
    }
   ],
   "source": [
    "l"
   ]
  },
  {
   "cell_type": "code",
   "execution_count": 6,
   "metadata": {},
   "outputs": [],
   "source": [
    "x=l.iloc[:,[e]].values"
   ]
  },
  {
   "cell_type": "code",
   "execution_count": 7,
   "metadata": {},
   "outputs": [],
   "source": [
    "x=x.astype(int)"
   ]
  },
  {
   "cell_type": "code",
   "execution_count": 8,
   "metadata": {},
   "outputs": [
    {
     "data": {
      "text/plain": [
       "array([[   73],\n",
       "       [  835],\n",
       "       [35327],\n",
       "       [44378],\n",
       "       [44378]])"
      ]
     },
     "execution_count": 8,
     "metadata": {},
     "output_type": "execute_result"
    }
   ],
   "source": [
    "x"
   ]
  },
  {
   "cell_type": "code",
   "execution_count": 10,
   "metadata": {},
   "outputs": [],
   "source": [
    "y=l.iloc[:,[0,3]].values"
   ]
  },
  {
   "cell_type": "code",
   "execution_count": 11,
   "metadata": {},
   "outputs": [
    {
     "data": {
      "text/plain": [
       "array([[   73],\n",
       "       [  835],\n",
       "       [35327],\n",
       "       [44378],\n",
       "       [44378]])"
      ]
     },
     "execution_count": 11,
     "metadata": {},
     "output_type": "execute_result"
    }
   ],
   "source": [
    "x"
   ]
  },
  {
   "cell_type": "code",
   "execution_count": 12,
   "metadata": {},
   "outputs": [
    {
     "data": {
      "text/plain": [
       "array([[   1,    5],\n",
       "       [   4,    5],\n",
       "       [1013,    5],\n",
       "       [1014,    5],\n",
       "       [1014,    5]], dtype=int64)"
      ]
     },
     "execution_count": 12,
     "metadata": {},
     "output_type": "execute_result"
    }
   ],
   "source": [
    "y"
   ]
  },
  {
   "cell_type": "code",
   "execution_count": 13,
   "metadata": {},
   "outputs": [],
   "source": [
    "from sklearn.preprocessing import StandardScaler\n",
    "st_x=StandardScaler()\n",
    "x=st_x.fit_transform(x)"
   ]
  },
  {
   "cell_type": "code",
   "execution_count": 14,
   "metadata": {},
   "outputs": [],
   "source": [
    "x_test=[[47660]]"
   ]
  },
  {
   "cell_type": "code",
   "execution_count": 15,
   "metadata": {},
   "outputs": [],
   "source": [
    "y_test=[[1014,5]]"
   ]
  },
  {
   "cell_type": "code",
   "execution_count": 16,
   "metadata": {},
   "outputs": [
    {
     "data": {
      "text/plain": [
       "[[1014, 5]]"
      ]
     },
     "execution_count": 16,
     "metadata": {},
     "output_type": "execute_result"
    }
   ],
   "source": [
    "y_test"
   ]
  },
  {
   "cell_type": "code",
   "execution_count": 17,
   "metadata": {},
   "outputs": [],
   "source": [
    "x_test=st_x.transform(x_test)"
   ]
  },
  {
   "cell_type": "code",
   "execution_count": 18,
   "metadata": {},
   "outputs": [
    {
     "data": {
      "text/plain": [
       "KNeighborsClassifier(n_neighbors=2)"
      ]
     },
     "execution_count": 18,
     "metadata": {},
     "output_type": "execute_result"
    }
   ],
   "source": [
    "from sklearn.neighbors import KNeighborsClassifier\n",
    "classifier=KNeighborsClassifier(n_neighbors=2,metric='minkowski',p=2)\n",
    "classifier.fit(x,y)"
   ]
  },
  {
   "cell_type": "code",
   "execution_count": 19,
   "metadata": {},
   "outputs": [],
   "source": [
    "y_pred=classifier.predict(x_test)"
   ]
  },
  {
   "cell_type": "code",
   "execution_count": 20,
   "metadata": {},
   "outputs": [
    {
     "data": {
      "text/plain": [
       "array([[1014,    5]], dtype=int64)"
      ]
     },
     "execution_count": 20,
     "metadata": {},
     "output_type": "execute_result"
    }
   ],
   "source": [
    "y_pred"
   ]
  },
  {
   "cell_type": "code",
   "execution_count": 275,
   "metadata": {},
   "outputs": [
    {
     "data": {
      "text/plain": [
       "1.0"
      ]
     },
     "execution_count": 275,
     "metadata": {},
     "output_type": "execute_result"
    }
   ],
   "source": [
    "classifier.score(x_test,y_test)"
   ]
  },
  {
   "cell_type": "code",
   "execution_count": 278,
   "metadata": {},
   "outputs": [
    {
     "ename": "AttributeError",
     "evalue": "'list' object has no attribute 'values'",
     "output_type": "error",
     "traceback": [
      "\u001b[1;31m---------------------------------------------------------------------------\u001b[0m",
      "\u001b[1;31mAttributeError\u001b[0m                            Traceback (most recent call last)",
      "\u001b[1;32m<ipython-input-278-4a43f0d39dc2>\u001b[0m in \u001b[0;36m<module>\u001b[1;34m\u001b[0m\n\u001b[0;32m      1\u001b[0m \u001b[1;32mfrom\u001b[0m \u001b[0msklearn\u001b[0m\u001b[1;33m.\u001b[0m\u001b[0mmetrics\u001b[0m \u001b[1;32mimport\u001b[0m \u001b[0mclassification_report\u001b[0m\u001b[1;33m,\u001b[0m \u001b[0mconfusion_matrix\u001b[0m\u001b[1;33m,\u001b[0m \u001b[0maccuracy_score\u001b[0m\u001b[1;33m\u001b[0m\u001b[1;33m\u001b[0m\u001b[0m\n\u001b[1;32m----> 2\u001b[1;33m \u001b[0mresult\u001b[0m \u001b[1;33m=\u001b[0m \u001b[0mconfusion_matrix\u001b[0m\u001b[1;33m(\u001b[0m\u001b[0my_test\u001b[0m\u001b[1;33m.\u001b[0m\u001b[0mvalues\u001b[0m\u001b[1;33m.\u001b[0m\u001b[0margmax\u001b[0m\u001b[1;33m(\u001b[0m\u001b[0maxis\u001b[0m\u001b[1;33m=\u001b[0m\u001b[1;36m1\u001b[0m\u001b[1;33m)\u001b[0m\u001b[1;33m,\u001b[0m \u001b[0my_pred\u001b[0m\u001b[1;33m.\u001b[0m\u001b[0margmax\u001b[0m\u001b[1;33m(\u001b[0m\u001b[0maxis\u001b[0m\u001b[1;33m=\u001b[0m\u001b[1;36m1\u001b[0m\u001b[1;33m)\u001b[0m\u001b[1;33m)\u001b[0m\u001b[1;33m\u001b[0m\u001b[1;33m\u001b[0m\u001b[0m\n\u001b[0m\u001b[0;32m      3\u001b[0m \u001b[0mprint\u001b[0m\u001b[1;33m(\u001b[0m\u001b[1;34m\"Confusion Matrix:\"\u001b[0m\u001b[1;33m)\u001b[0m\u001b[1;33m\u001b[0m\u001b[1;33m\u001b[0m\u001b[0m\n\u001b[0;32m      4\u001b[0m \u001b[0mprint\u001b[0m\u001b[1;33m(\u001b[0m\u001b[0mresult\u001b[0m\u001b[1;33m)\u001b[0m\u001b[1;33m\u001b[0m\u001b[1;33m\u001b[0m\u001b[0m\n\u001b[0;32m      5\u001b[0m \u001b[0mresult1\u001b[0m \u001b[1;33m=\u001b[0m \u001b[0mclassification_report\u001b[0m\u001b[1;33m(\u001b[0m\u001b[0my_test\u001b[0m\u001b[1;33m,\u001b[0m \u001b[0my_pred\u001b[0m\u001b[1;33m)\u001b[0m\u001b[1;33m\u001b[0m\u001b[1;33m\u001b[0m\u001b[0m\n",
      "\u001b[1;31mAttributeError\u001b[0m: 'list' object has no attribute 'values'"
     ]
    }
   ],
   "source": [
    "from sklearn.metrics import classification_report, confusion_matrix, accuracy_score\n",
    "result = confusion_matrix(y_test.values.argmax(axis=1), y_pred.argmax(axis=1))\n",
    "print(\"Confusion Matrix:\")\n",
    "print(result)\n",
    "result1 = classification_report(y_test, y_pred)\n",
    "print(\"Classification Report:\",)\n",
    "print (result1)\n",
    "result2 = accuracy_score(y_test,y_pred)\n",
    "print(\"Accuracy:\",result2)"
   ]
  },
  {
   "cell_type": "code",
   "execution_count": 39,
   "metadata": {},
   "outputs": [],
   "source": [
    "e1=12+19"
   ]
  },
  {
   "cell_type": "code",
   "execution_count": 56,
   "metadata": {},
   "outputs": [],
   "source": [
    "x1=ss.iloc[:,[e1]].values"
   ]
  },
  {
   "cell_type": "code",
   "execution_count": 57,
   "metadata": {},
   "outputs": [],
   "source": [
    "y1=ss.iloc[:,[1,4]].values"
   ]
  },
  {
   "cell_type": "code",
   "execution_count": 58,
   "metadata": {},
   "outputs": [
    {
     "data": {
      "text/plain": [
       "array([[  4125.],\n",
       "       [  1886.],\n",
       "       [  1781.],\n",
       "       ...,\n",
       "       [102730.],\n",
       "       [ 95391.],\n",
       "       [103155.]])"
      ]
     },
     "execution_count": 58,
     "metadata": {},
     "output_type": "execute_result"
    }
   ],
   "source": [
    "x1"
   ]
  },
  {
   "cell_type": "code",
   "execution_count": 59,
   "metadata": {},
   "outputs": [
    {
     "data": {
      "text/plain": [
       "array([[   1,    1],\n",
       "       [   1,    2],\n",
       "       [   1,    3],\n",
       "       ...,\n",
       "       [5990,    7],\n",
       "       [5990,    9],\n",
       "       [5990,   15]], dtype=int64)"
      ]
     },
     "execution_count": 59,
     "metadata": {},
     "output_type": "execute_result"
    }
   ],
   "source": [
    "y1"
   ]
  },
  {
   "cell_type": "code",
   "execution_count": 60,
   "metadata": {},
   "outputs": [],
   "source": [
    "from sklearn.preprocessing import StandardScaler\n",
    "st_x=StandardScaler()\n",
    "x1=st_x.fit_transform(x1)"
   ]
  },
  {
   "cell_type": "code",
   "execution_count": 61,
   "metadata": {},
   "outputs": [],
   "source": [
    "x1_test=[[1500]]"
   ]
  },
  {
   "cell_type": "code",
   "execution_count": 62,
   "metadata": {},
   "outputs": [],
   "source": [
    "y1_test=[[1,2]]"
   ]
  },
  {
   "cell_type": "code",
   "execution_count": 63,
   "metadata": {},
   "outputs": [
    {
     "data": {
      "text/plain": [
       "[[1, 2]]"
      ]
     },
     "execution_count": 63,
     "metadata": {},
     "output_type": "execute_result"
    }
   ],
   "source": [
    "y1_test"
   ]
  },
  {
   "cell_type": "code",
   "execution_count": 64,
   "metadata": {},
   "outputs": [],
   "source": [
    "x1_test=st_x.transform(x1_test)"
   ]
  },
  {
   "cell_type": "code",
   "execution_count": 65,
   "metadata": {},
   "outputs": [
    {
     "data": {
      "text/plain": [
       "KNeighborsClassifier()"
      ]
     },
     "execution_count": 65,
     "metadata": {},
     "output_type": "execute_result"
    }
   ],
   "source": [
    "from sklearn.neighbors import KNeighborsClassifier\n",
    "classifier=KNeighborsClassifier(n_neighbors=5,metric='minkowski',p=2)\n",
    "classifier.fit(x1,y1)"
   ]
  },
  {
   "cell_type": "code",
   "execution_count": 66,
   "metadata": {},
   "outputs": [],
   "source": [
    "y1_pred=classifier.predict(x1_test)"
   ]
  },
  {
   "cell_type": "code",
   "execution_count": 67,
   "metadata": {},
   "outputs": [
    {
     "data": {
      "text/plain": [
       "array([[ 4, 12]], dtype=int64)"
      ]
     },
     "execution_count": 67,
     "metadata": {},
     "output_type": "execute_result"
    }
   ],
   "source": [
    "y1_pred"
   ]
  },
  {
   "cell_type": "code",
   "execution_count": 68,
   "metadata": {},
   "outputs": [
    {
     "data": {
      "text/plain": [
       "0.0"
      ]
     },
     "execution_count": 68,
     "metadata": {},
     "output_type": "execute_result"
    }
   ],
   "source": [
    "classifier.score(x1_test,y1_test)"
   ]
  },
  {
   "cell_type": "code",
   "execution_count": null,
   "metadata": {},
   "outputs": [],
   "source": [
    "from sklearn.metrics import classification_report, confusion_matrix, accuracy_score\n",
    "result = confusion_matrix(y_test, y_pred)\n",
    "print(\"Confusion Matrix:\")\n",
    "print(result)\n",
    "result1 = classification_report(y_test, y_pred)\n",
    "print(\"Classification Report:\",)\n",
    "print (result1)\n",
    "result2 = accuracy_score(y_test,y_pred)\n",
    "print(\"Accuracy:\",result2)"
   ]
  },
  {
   "cell_type": "code",
   "execution_count": 276,
   "metadata": {},
   "outputs": [
    {
     "ename": "ValueError",
     "evalue": "multilabel-indicator is not supported",
     "output_type": "error",
     "traceback": [
      "\u001b[1;31m---------------------------------------------------------------------------\u001b[0m",
      "\u001b[1;31mValueError\u001b[0m                                Traceback (most recent call last)",
      "\u001b[1;32m<ipython-input-276-3ed46544fd73>\u001b[0m in \u001b[0;36m<module>\u001b[1;34m\u001b[0m\n\u001b[0;32m      1\u001b[0m \u001b[1;32mfrom\u001b[0m \u001b[0msklearn\u001b[0m\u001b[1;33m.\u001b[0m\u001b[0mmetrics\u001b[0m \u001b[1;32mimport\u001b[0m \u001b[0mconfusion_matrix\u001b[0m\u001b[1;33m\u001b[0m\u001b[1;33m\u001b[0m\u001b[0m\n\u001b[1;32m----> 2\u001b[1;33m \u001b[0mcm\u001b[0m\u001b[1;33m=\u001b[0m\u001b[0mconfusion_matrix\u001b[0m\u001b[1;33m(\u001b[0m\u001b[0my_test\u001b[0m\u001b[1;33m,\u001b[0m\u001b[0my_pred\u001b[0m\u001b[1;33m)\u001b[0m\u001b[1;33m\u001b[0m\u001b[1;33m\u001b[0m\u001b[0m\n\u001b[0m",
      "\u001b[1;32m~\\anaconda3\\lib\\site-packages\\sklearn\\utils\\validation.py\u001b[0m in \u001b[0;36minner_f\u001b[1;34m(*args, **kwargs)\u001b[0m\n\u001b[0;32m     71\u001b[0m                           FutureWarning)\n\u001b[0;32m     72\u001b[0m         \u001b[0mkwargs\u001b[0m\u001b[1;33m.\u001b[0m\u001b[0mupdate\u001b[0m\u001b[1;33m(\u001b[0m\u001b[1;33m{\u001b[0m\u001b[0mk\u001b[0m\u001b[1;33m:\u001b[0m \u001b[0marg\u001b[0m \u001b[1;32mfor\u001b[0m \u001b[0mk\u001b[0m\u001b[1;33m,\u001b[0m \u001b[0marg\u001b[0m \u001b[1;32min\u001b[0m \u001b[0mzip\u001b[0m\u001b[1;33m(\u001b[0m\u001b[0msig\u001b[0m\u001b[1;33m.\u001b[0m\u001b[0mparameters\u001b[0m\u001b[1;33m,\u001b[0m \u001b[0margs\u001b[0m\u001b[1;33m)\u001b[0m\u001b[1;33m}\u001b[0m\u001b[1;33m)\u001b[0m\u001b[1;33m\u001b[0m\u001b[1;33m\u001b[0m\u001b[0m\n\u001b[1;32m---> 73\u001b[1;33m         \u001b[1;32mreturn\u001b[0m \u001b[0mf\u001b[0m\u001b[1;33m(\u001b[0m\u001b[1;33m**\u001b[0m\u001b[0mkwargs\u001b[0m\u001b[1;33m)\u001b[0m\u001b[1;33m\u001b[0m\u001b[1;33m\u001b[0m\u001b[0m\n\u001b[0m\u001b[0;32m     74\u001b[0m     \u001b[1;32mreturn\u001b[0m \u001b[0minner_f\u001b[0m\u001b[1;33m\u001b[0m\u001b[1;33m\u001b[0m\u001b[0m\n\u001b[0;32m     75\u001b[0m \u001b[1;33m\u001b[0m\u001b[0m\n",
      "\u001b[1;32m~\\anaconda3\\lib\\site-packages\\sklearn\\metrics\\_classification.py\u001b[0m in \u001b[0;36mconfusion_matrix\u001b[1;34m(y_true, y_pred, labels, sample_weight, normalize)\u001b[0m\n\u001b[0;32m    276\u001b[0m     \u001b[0my_type\u001b[0m\u001b[1;33m,\u001b[0m \u001b[0my_true\u001b[0m\u001b[1;33m,\u001b[0m \u001b[0my_pred\u001b[0m \u001b[1;33m=\u001b[0m \u001b[0m_check_targets\u001b[0m\u001b[1;33m(\u001b[0m\u001b[0my_true\u001b[0m\u001b[1;33m,\u001b[0m \u001b[0my_pred\u001b[0m\u001b[1;33m)\u001b[0m\u001b[1;33m\u001b[0m\u001b[1;33m\u001b[0m\u001b[0m\n\u001b[0;32m    277\u001b[0m     \u001b[1;32mif\u001b[0m \u001b[0my_type\u001b[0m \u001b[1;32mnot\u001b[0m \u001b[1;32min\u001b[0m \u001b[1;33m(\u001b[0m\u001b[1;34m\"binary\"\u001b[0m\u001b[1;33m,\u001b[0m \u001b[1;34m\"multiclass\"\u001b[0m\u001b[1;33m)\u001b[0m\u001b[1;33m:\u001b[0m\u001b[1;33m\u001b[0m\u001b[1;33m\u001b[0m\u001b[0m\n\u001b[1;32m--> 278\u001b[1;33m         \u001b[1;32mraise\u001b[0m \u001b[0mValueError\u001b[0m\u001b[1;33m(\u001b[0m\u001b[1;34m\"%s is not supported\"\u001b[0m \u001b[1;33m%\u001b[0m \u001b[0my_type\u001b[0m\u001b[1;33m)\u001b[0m\u001b[1;33m\u001b[0m\u001b[1;33m\u001b[0m\u001b[0m\n\u001b[0m\u001b[0;32m    279\u001b[0m \u001b[1;33m\u001b[0m\u001b[0m\n\u001b[0;32m    280\u001b[0m     \u001b[1;32mif\u001b[0m \u001b[0mlabels\u001b[0m \u001b[1;32mis\u001b[0m \u001b[1;32mNone\u001b[0m\u001b[1;33m:\u001b[0m\u001b[1;33m\u001b[0m\u001b[1;33m\u001b[0m\u001b[0m\n",
      "\u001b[1;31mValueError\u001b[0m: multilabel-indicator is not supported"
     ]
    }
   ],
   "source": [
    "from sklearn.metrics import confusion_matrix\n",
    "cm=confusion_matrix(y_test,y_pred)"
   ]
  },
  {
   "cell_type": "code",
   "execution_count": null,
   "metadata": {},
   "outputs": [],
   "source": [
    "cm"
   ]
  },
  {
   "cell_type": "code",
   "execution_count": null,
   "metadata": {},
   "outputs": [],
   "source": []
  },
  {
   "cell_type": "code",
   "execution_count": 17,
   "metadata": {},
   "outputs": [],
   "source": [
    "ss=ss.replace({0:134905})"
   ]
  },
  {
   "cell_type": "code",
   "execution_count": 9,
   "metadata": {},
   "outputs": [],
   "source": [
    "mer.to_csv(\"2018_FINISH1.csv\")"
   ]
  },
  {
   "cell_type": "code",
   "execution_count": 7,
   "metadata": {},
   "outputs": [],
   "source": [
    "zz = pd.read_csv(\"2018_FINISH.csv\") "
   ]
  },
  {
   "cell_type": "code",
   "execution_count": 18,
   "metadata": {},
   "outputs": [],
   "source": [
    "ss.to_csv(\"2018_FINISH2.csv\")"
   ]
  },
  {
   "cell_type": "code",
   "execution_count": 81,
   "metadata": {},
   "outputs": [],
   "source": [
    "ss[\"Branch Name\"]=ss[\"Branch Name\"].str.lower()"
   ]
  },
  {
   "cell_type": "code",
   "execution_count": 8,
   "metadata": {},
   "outputs": [],
   "source": [
    "mer=pd.merge(ss,zz,on=['College Code','Branch Code'])"
   ]
  },
  {
   "cell_type": "code",
   "execution_count": 86,
   "metadata": {},
   "outputs": [],
   "source": [
    "ss=ss.replace({\n",
    "'agricultural and irrigation engg.(ss)':1,\n",
    "'bio medical engg(ss)':2,\n",
    "'civil engineering':3,\n",
    "'civil engineering (tamil medium)':4,\n",
    "'computer science and engg.':5,\n",
    "'computer science and engg.(ss)':6,\n",
    "'electrical and elec. engg.':7,\n",
    "'electronics and comm engg(ss)':8,\n",
    "'electronics and comm engg.':9,\n",
    "'geo-informatics':10,\n",
    "'industrial engineering':11,\n",
    "'information technology(ss)':12,\n",
    "'manufacturing engineering':13,\n",
    "'materials science and engg.(ss)':14,\n",
    "'mechanical engineering':15,\n",
    "'mechanical engineering (tamil medium)':16,\n",
    "'mining engineering':17,\n",
    "'printing technology':18,\n",
    "'apparel technology(ss)':19,\n",
    "'ceramic technology(ss)':20,\n",
    "'chemical engineering':21,\n",
    "'chemical engineering(ss)':22,\n",
    "'food technology(ss)':23,\n",
    "'industrial bio-technology':24,\n",
    "'industrial bio-technology(ss)':25,\n",
    "'leather technology':26,\n",
    "'petroleum engineering and tech(ss)':27,\n",
    "'pharmaceutical technology(ss)':28,\n",
    "'textile technology':29,\n",
    "'aeronautical engineering':30,\n",
    "'automobile engineering':31,\n",
    "'automobile engineering (ss)':32,\n",
    "'information technology':33,\n",
    "'electronics and instru engg(ss)':34,\n",
    "'electronics and instru engg.':35,\n",
    "'production engineering':36,\n",
    "'rubber and plastic technology':37,\n",
    "'mechanical engineering(ss)':38,\n",
    "'bio-technology':39,\n",
    "'bio medical engineering':40,\n",
    "'marine engineering':41,\n",
    "'mechatronics':42,\n",
    "'petroleum engineering':43,\n",
    "'medical electronics engg.':44,\n",
    "'agriculture engg.':45,\n",
    "'petrochemical engg.':46,\n",
    "'mechanical and automation engg.':47,             \n",
    "'instrumentation and control engg.':48,             \n",
    "'plastic technology':49,             \n",
    "'fashion technology':50,              \n",
    "'food technology':51,             \n",
    "'nano science and technology':52, \n",
    "'elec and electronics engg (ss)':53, \n",
    "'elec and electronics(sandwich)(ss)':54,   \n",
    "'mechanical engg (sandwich)(ss)':55,   \n",
    "'civil engg (ss)':56,   \n",
    "'robotics and automation(ss)':57,   \n",
    "'bio-technology(ss)':58,       \n",
    "'production engineering(ss)':59,  \n",
    "'instrumentation and control engg(ss)':60,\n",
    "'metallurgical engineering (ss)':61,   \n",
    "'metallurgical engineering':62,    \n",
    "'production engg.(sandwich)(ss)':63,   \n",
    "'fashion technology(ss)':64,    \n",
    "'textile technology (ss)':65,    \n",
    "'handloom and textile technology':66,    \n",
    "'textile chemistry':67, \n",
    "'electronics and telecommunication engg.':68,    \n",
    "'civil engineering and planning':69,    \n",
    "'environmental engineering':70,   \n",
    "'pharmaceutical technology':71,      \n",
    "'robotics and automation':72,      \n",
    "'industrial engineering and management':73,      \n",
    "'polymer technology':74,      \n",
    "'mechanical engg (sandwich)':75,  \n",
    "'mechatronics (ss)':76,    \n",
    "'ch and elect.chem engineering (ss)':77,\n",
    "'bio-technology (ss)':78,\n",
    "'petro chemical technology':79\n",
    "})\n",
    "\n"
   ]
  }
 ],
 "metadata": {
  "kernelspec": {
   "display_name": "Python 3",
   "language": "python",
   "name": "python3"
  },
  "language_info": {
   "codemirror_mode": {
    "name": "ipython",
    "version": 3
   },
   "file_extension": ".py",
   "mimetype": "text/x-python",
   "name": "python",
   "nbconvert_exporter": "python",
   "pygments_lexer": "ipython3",
   "version": "3.8.3"
  }
 },
 "nbformat": 4,
 "nbformat_minor": 4
}
