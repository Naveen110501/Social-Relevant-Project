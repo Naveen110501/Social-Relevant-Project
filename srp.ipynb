{
 "cells": [
  {
   "cell_type": "code",
   "execution_count": 19,
   "metadata": {},
   "outputs": [],
   "source": [
    "import pandas as pd\n",
    "ss = pd.read_csv(\"2018_FINISH2.csv\") "
   ]
  },
  {
   "cell_type": "code",
   "execution_count": 20,
   "metadata": {},
   "outputs": [],
   "source": [
    "e=12"
   ]
  },
  {
   "cell_type": "code",
   "execution_count": 21,
   "metadata": {},
   "outputs": [],
   "source": [
    "x=ss.iloc[:,[e]].values"
   ]
  },
  {
   "cell_type": "code",
   "execution_count": 22,
   "metadata": {},
   "outputs": [],
   "source": [
    "y=ss.iloc[:,[1,4]].values"
   ]
  },
  {
   "cell_type": "code",
   "execution_count": 23,
   "metadata": {},
   "outputs": [
    {
     "data": {
      "text/plain": [
       "array([[  5009.],\n",
       "       [  1509.],\n",
       "       [  1360.],\n",
       "       ...,\n",
       "       [117068.],\n",
       "       [119011.],\n",
       "       [134088.]])"
      ]
     },
     "execution_count": 23,
     "metadata": {},
     "output_type": "execute_result"
    }
   ],
   "source": [
    "x"
   ]
  },
  {
   "cell_type": "code",
   "execution_count": 24,
   "metadata": {},
   "outputs": [
    {
     "data": {
      "text/plain": [
       "array([[   1,    1],\n",
       "       [   1,    2],\n",
       "       [   1,    3],\n",
       "       ...,\n",
       "       [5990,    7],\n",
       "       [5990,    9],\n",
       "       [5990,   15]], dtype=int64)"
      ]
     },
     "execution_count": 24,
     "metadata": {},
     "output_type": "execute_result"
    }
   ],
   "source": [
    "y"
   ]
  },
  {
   "cell_type": "code",
   "execution_count": 25,
   "metadata": {},
   "outputs": [],
   "source": [
    "from sklearn.preprocessing import StandardScaler\n",
    "st_x=StandardScaler()\n",
    "x=st_x.fit_transform(x)"
   ]
  },
  {
   "cell_type": "code",
   "execution_count": 26,
   "metadata": {},
   "outputs": [],
   "source": [
    "x_test=[[1500]]"
   ]
  },
  {
   "cell_type": "code",
   "execution_count": 27,
   "metadata": {},
   "outputs": [],
   "source": [
    "y_test=[[1,2]]"
   ]
  },
  {
   "cell_type": "code",
   "execution_count": 28,
   "metadata": {},
   "outputs": [
    {
     "data": {
      "text/plain": [
       "[[1, 2]]"
      ]
     },
     "execution_count": 28,
     "metadata": {},
     "output_type": "execute_result"
    }
   ],
   "source": [
    "y_test"
   ]
  },
  {
   "cell_type": "code",
   "execution_count": 29,
   "metadata": {},
   "outputs": [],
   "source": [
    "x_test=st_x.transform(x_test)"
   ]
  },
  {
   "cell_type": "code",
   "execution_count": 30,
   "metadata": {},
   "outputs": [
    {
     "data": {
      "text/plain": [
       "KNeighborsClassifier()"
      ]
     },
     "execution_count": 30,
     "metadata": {},
     "output_type": "execute_result"
    }
   ],
   "source": [
    "from sklearn.neighbors import KNeighborsClassifier\n",
    "classifier=KNeighborsClassifier(n_neighbors=5,metric='minkowski',p=2)\n",
    "classifier.fit(x,y)"
   ]
  },
  {
   "cell_type": "code",
   "execution_count": 31,
   "metadata": {},
   "outputs": [],
   "source": [
    "y_pred=classifier.predict(x_test)"
   ]
  },
  {
   "cell_type": "code",
   "execution_count": 32,
   "metadata": {},
   "outputs": [
    {
     "data": {
      "text/plain": [
       "array([[1, 2]], dtype=int64)"
      ]
     },
     "execution_count": 32,
     "metadata": {},
     "output_type": "execute_result"
    }
   ],
   "source": [
    "y_pred"
   ]
  },
  {
   "cell_type": "code",
   "execution_count": 33,
   "metadata": {},
   "outputs": [
    {
     "data": {
      "text/plain": [
       "1.0"
      ]
     },
     "execution_count": 33,
     "metadata": {},
     "output_type": "execute_result"
    }
   ],
   "source": [
    "classifier.score(x_test,y_test)"
   ]
  },
  {
   "cell_type": "code",
   "execution_count": 55,
   "metadata": {},
   "outputs": [],
   "source": [
    "e1=12+19"
   ]
  },
  {
   "cell_type": "code",
   "execution_count": 56,
   "metadata": {},
   "outputs": [],
   "source": [
    "x1=ss.iloc[:,[e1]].values"
   ]
  },
  {
   "cell_type": "code",
   "execution_count": 57,
   "metadata": {},
   "outputs": [],
   "source": [
    "y1=ss.iloc[:,[1,4]].values"
   ]
  },
  {
   "cell_type": "code",
   "execution_count": 58,
   "metadata": {},
   "outputs": [
    {
     "data": {
      "text/plain": [
       "array([[  4125.],\n",
       "       [  1886.],\n",
       "       [  1781.],\n",
       "       ...,\n",
       "       [102730.],\n",
       "       [ 95391.],\n",
       "       [103155.]])"
      ]
     },
     "execution_count": 58,
     "metadata": {},
     "output_type": "execute_result"
    }
   ],
   "source": [
    "x1"
   ]
  },
  {
   "cell_type": "code",
   "execution_count": 59,
   "metadata": {},
   "outputs": [
    {
     "data": {
      "text/plain": [
       "array([[   1,    1],\n",
       "       [   1,    2],\n",
       "       [   1,    3],\n",
       "       ...,\n",
       "       [5990,    7],\n",
       "       [5990,    9],\n",
       "       [5990,   15]], dtype=int64)"
      ]
     },
     "execution_count": 59,
     "metadata": {},
     "output_type": "execute_result"
    }
   ],
   "source": [
    "y1"
   ]
  },
  {
   "cell_type": "code",
   "execution_count": 60,
   "metadata": {},
   "outputs": [],
   "source": [
    "from sklearn.preprocessing import StandardScaler\n",
    "st_x=StandardScaler()\n",
    "x1=st_x.fit_transform(x1)"
   ]
  },
  {
   "cell_type": "code",
   "execution_count": 61,
   "metadata": {},
   "outputs": [],
   "source": [
    "x1_test=[[1500]]"
   ]
  },
  {
   "cell_type": "code",
   "execution_count": 62,
   "metadata": {},
   "outputs": [],
   "source": [
    "y1_test=[[1,2]]"
   ]
  },
  {
   "cell_type": "code",
   "execution_count": 63,
   "metadata": {},
   "outputs": [
    {
     "data": {
      "text/plain": [
       "[[1, 2]]"
      ]
     },
     "execution_count": 63,
     "metadata": {},
     "output_type": "execute_result"
    }
   ],
   "source": [
    "y1_test"
   ]
  },
  {
   "cell_type": "code",
   "execution_count": 64,
   "metadata": {},
   "outputs": [],
   "source": [
    "x1_test=st_x.transform(x1_test)"
   ]
  },
  {
   "cell_type": "code",
   "execution_count": 65,
   "metadata": {},
   "outputs": [
    {
     "data": {
      "text/plain": [
       "KNeighborsClassifier()"
      ]
     },
     "execution_count": 65,
     "metadata": {},
     "output_type": "execute_result"
    }
   ],
   "source": [
    "from sklearn.neighbors import KNeighborsClassifier\n",
    "classifier=KNeighborsClassifier(n_neighbors=5,metric='minkowski',p=2)\n",
    "classifier.fit(x1,y1)"
   ]
  },
  {
   "cell_type": "code",
   "execution_count": 66,
   "metadata": {},
   "outputs": [],
   "source": [
    "y1_pred=classifier.predict(x1_test)"
   ]
  },
  {
   "cell_type": "code",
   "execution_count": 67,
   "metadata": {},
   "outputs": [
    {
     "data": {
      "text/plain": [
       "array([[ 4, 12]], dtype=int64)"
      ]
     },
     "execution_count": 67,
     "metadata": {},
     "output_type": "execute_result"
    }
   ],
   "source": [
    "y1_pred"
   ]
  },
  {
   "cell_type": "code",
   "execution_count": 68,
   "metadata": {},
   "outputs": [
    {
     "data": {
      "text/plain": [
       "0.0"
      ]
     },
     "execution_count": 68,
     "metadata": {},
     "output_type": "execute_result"
    }
   ],
   "source": [
    "classifier.score(x1_test,y1_test)"
   ]
  },
  {
   "cell_type": "code",
   "execution_count": null,
   "metadata": {},
   "outputs": [],
   "source": []
  },
  {
   "cell_type": "code",
   "execution_count": null,
   "metadata": {},
   "outputs": [],
   "source": []
  },
  {
   "cell_type": "code",
   "execution_count": null,
   "metadata": {},
   "outputs": [],
   "source": []
  },
  {
   "cell_type": "code",
   "execution_count": 17,
   "metadata": {},
   "outputs": [],
   "source": [
    "ss=ss.replace({0:134905})"
   ]
  },
  {
   "cell_type": "code",
   "execution_count": 9,
   "metadata": {},
   "outputs": [],
   "source": [
    "mer.to_csv(\"2018_FINISH1.csv\")"
   ]
  },
  {
   "cell_type": "code",
   "execution_count": 7,
   "metadata": {},
   "outputs": [],
   "source": [
    "zz = pd.read_csv(\"2018_FINISH.csv\") "
   ]
  },
  {
   "cell_type": "code",
   "execution_count": 18,
   "metadata": {},
   "outputs": [],
   "source": [
    "ss.to_csv(\"2018_FINISH2.csv\")"
   ]
  },
  {
   "cell_type": "code",
   "execution_count": 81,
   "metadata": {},
   "outputs": [],
   "source": [
    "ss[\"Branch Name\"]=ss[\"Branch Name\"].str.lower()"
   ]
  },
  {
   "cell_type": "code",
   "execution_count": 8,
   "metadata": {},
   "outputs": [],
   "source": [
    "mer=pd.merge(ss,zz,on=['College Code','Branch Code'])"
   ]
  },
  {
   "cell_type": "code",
   "execution_count": 86,
   "metadata": {},
   "outputs": [],
   "source": [
    "ss=ss.replace({\n",
    "'agricultural and irrigation engg.(ss)':1,\n",
    "'bio medical engg(ss)':2,\n",
    "'civil engineering':3,\n",
    "'civil engineering (tamil medium)':4,\n",
    "'computer science and engg.':5,\n",
    "'computer science and engg.(ss)':6,\n",
    "'electrical and elec. engg.':7,\n",
    "'electronics and comm engg(ss)':8,\n",
    "'electronics and comm engg.':9,\n",
    "'geo-informatics':10,\n",
    "'industrial engineering':11,\n",
    "'information technology(ss)':12,\n",
    "'manufacturing engineering':13,\n",
    "'materials science and engg.(ss)':14,\n",
    "'mechanical engineering':15,\n",
    "'mechanical engineering (tamil medium)':16,\n",
    "'mining engineering':17,\n",
    "'printing technology':18,\n",
    "'apparel technology(ss)':19,\n",
    "'ceramic technology(ss)':20,\n",
    "'chemical engineering':21,\n",
    "'chemical engineering(ss)':22,\n",
    "'food technology(ss)':23,\n",
    "'industrial bio-technology':24,\n",
    "'industrial bio-technology(ss)':25,\n",
    "'leather technology':26,\n",
    "'petroleum engineering and tech(ss)':27,\n",
    "'pharmaceutical technology(ss)':28,\n",
    "'textile technology':29,\n",
    "'aeronautical engineering':30,\n",
    "'automobile engineering':31,\n",
    "'automobile engineering (ss)':32,\n",
    "'information technology':33,\n",
    "'electronics and instru engg(ss)':34,\n",
    "'electronics and instru engg.':35,\n",
    "'production engineering':36,\n",
    "'rubber and plastic technology':37,\n",
    "'mechanical engineering(ss)':38,\n",
    "'bio-technology':39,\n",
    "'bio medical engineering':40,\n",
    "'marine engineering':41,\n",
    "'mechatronics':42,\n",
    "'petroleum engineering':43,\n",
    "'medical electronics engg.':44,\n",
    "'agriculture engg.':45,\n",
    "'petrochemical engg.':46,\n",
    "'mechanical and automation engg.':47,             \n",
    "'instrumentation and control engg.':48,             \n",
    "'plastic technology':49,             \n",
    "'fashion technology':50,              \n",
    "'food technology':51,             \n",
    "'nano science and technology':52, \n",
    "'elec and electronics engg (ss)':53, \n",
    "'elec and electronics(sandwich)(ss)':54,   \n",
    "'mechanical engg (sandwich)(ss)':55,   \n",
    "'civil engg (ss)':56,   \n",
    "'robotics and automation(ss)':57,   \n",
    "'bio-technology(ss)':58,       \n",
    "'production engineering(ss)':59,  \n",
    "'instrumentation and control engg(ss)':60,\n",
    "'metallurgical engineering (ss)':61,   \n",
    "'metallurgical engineering':62,    \n",
    "'production engg.(sandwich)(ss)':63,   \n",
    "'fashion technology(ss)':64,    \n",
    "'textile technology (ss)':65,    \n",
    "'handloom and textile technology':66,    \n",
    "'textile chemistry':67, \n",
    "'electronics and telecommunication engg.':68,    \n",
    "'civil engineering and planning':69,    \n",
    "'environmental engineering':70,   \n",
    "'pharmaceutical technology':71,      \n",
    "'robotics and automation':72,      \n",
    "'industrial engineering and management':73,      \n",
    "'polymer technology':74,      \n",
    "'mechanical engg (sandwich)':75,  \n",
    "'mechatronics (ss)':76,    \n",
    "'ch and elect.chem engineering (ss)':77,\n",
    "'bio-technology (ss)':78,\n",
    "'petro chemical technology':79\n",
    "})\n",
    "\n"
   ]
  }
 ],
 "metadata": {
  "kernelspec": {
   "display_name": "Python 3",
   "language": "python",
   "name": "python3"
  },
  "language_info": {
   "codemirror_mode": {
    "name": "ipython",
    "version": 3
   },
   "file_extension": ".py",
   "mimetype": "text/x-python",
   "name": "python",
   "nbconvert_exporter": "python",
   "pygments_lexer": "ipython3",
   "version": "3.8.3"
  }
 },
 "nbformat": 4,
 "nbformat_minor": 4
}
